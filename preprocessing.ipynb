{
 "cells": [
  {
   "cell_type": "code",
   "execution_count": null,
   "metadata": {},
   "outputs": [],
   "source": [
    "import sys\n",
    "!{sys.executable} --version\n",
    "!{sys.executable} -m pip install git+https://github.com/pandas-profiling/pandas-profiling.git"
   ]
  },
  {
   "cell_type": "code",
   "execution_count": null,
   "metadata": {},
   "outputs": [],
   "source": [
    "import pandas as pd\n",
    "import numpy as np"
   ]
  },
  {
   "cell_type": "markdown",
   "metadata": {},
   "source": [
    "### Load data, fix problems and merge"
   ]
  },
  {
   "cell_type": "code",
   "execution_count": null,
   "metadata": {
    "scrolled": false
   },
   "outputs": [],
   "source": [
    "df_bw2017_zbwk = pd.read_csv(\"./data/bw2017zweitbundestagswahlkreise.csv\",sep=';',encoding='latin_1')\n",
    "df_bw2017_zbwk.head()"
   ]
  },
  {
   "cell_type": "code",
   "execution_count": null,
   "metadata": {},
   "outputs": [],
   "source": [
    "df_bw2017_zst = pd.read_csv(\"./data/bw2017zweitstadtteile.csv\",sep=';',encoding='latin_1')\n",
    "df_bw2017_zst.head()"
   ]
  },
  {
   "cell_type": "code",
   "execution_count": null,
   "metadata": {},
   "outputs": [],
   "source": [
    "df_bw2017_zwb = pd.read_csv(\"./data/bw2017zweitwahlbezirke.csv\",sep=';',encoding='latin_1')\n",
    "df_bw2017_zwb.head()"
   ]
  },
  {
   "cell_type": "code",
   "execution_count": null,
   "metadata": {},
   "outputs": [],
   "source": [
    "##trim pre merge\n",
    "df_bw2017_zst_trimmed = df_bw2017_zst.drop(44) # drop total, we are only interested in local numbers \n",
    "\n",
    "\n",
    "df_bw2017_zst_trimmed = df_bw2017_zst_trimmed.drop(columns=['Wahlberechtigte ohne Sperrvermerk',\n",
    "                               'Wahlberechtigte mit Sperrvermerk',\n",
    "                               'Wahlberechtigte insgesamt',\n",
    "                               'Wähler',\n",
    "                               'darunter Wähler mit Wahlschein',\n",
    "                               'ungültige Stimmen',\n",
    "                               'gültige Stimmen',\n",
    "                               'CDU',\n",
    "                               'SPD',\n",
    "                               'GRÜNE',\n",
    "                               'DIE LINKE',\n",
    "                               'Die PARTEI',\n",
    "                               'AfD',\n",
    "                               'FDP',\n",
    "                               'PIRATEN',\n",
    "                               'NPD',\n",
    "                               'FREIE WÄHLER',\n",
    "                               'BüSo',\n",
    "                               'MLPD',\n",
    "                               'BGE',\n",
    "                               'DKP',\n",
    "                               'DM',\n",
    "                               'ÖDP', \n",
    "                               'Tierschutzpartei',\n",
    "                               'V-Partei³']) #drop total values to only keep relational data\n",
    "\n",
    "df_bw2017_zst_trimmed = df_bw2017_zst_trimmed.drop(columns=['Anteil Wahlberechtigte mit Sperrvermerk',\n",
    "                                                            'Anteil Wahlberechtigte insgesamt',\n",
    "                                                            'Anteil gültige Stimmen']) # redundant infos\n",
    "\n",
    "# Stadtteilnummer: string -> int\n",
    "df_bw2017_zst_trimmed['Stadtteilnummer']=df_bw2017_zst_trimmed['Stadtteilnummer'].astype(int)\n",
    "\n",
    "#convert Strings to Float\n",
    "for row in list(df_bw2017_zst_trimmed):\n",
    "    if (row.startswith('Anteil')):\n",
    "        df_bw2017_zst_trimmed[row] = df_bw2017_zst_trimmed[row].str.replace(',', '.').astype(float)\n",
    "        \n",
    "df_bw2017_zst_trimmed.head()"
   ]
  },
  {
   "cell_type": "code",
   "execution_count": null,
   "metadata": {},
   "outputs": [],
   "source": [
    "df_arbeitsmarkt = pd.read_json(\"./data/arbeitsmarkt.json\")\n",
    "df_arbeitsmarkt.head()"
   ]
  },
  {
   "cell_type": "code",
   "execution_count": null,
   "metadata": {},
   "outputs": [],
   "source": [
    "# drop gesamt\n",
    "df_arbeitsmarkt.drop(45, inplace=True)    \n",
    "\n",
    "##split 2011 <-> 2012\n",
    "l2011 = list()\n",
    "l2012 = list()\n",
    "lother = list()\n",
    "for row in list(df_arbeitsmarkt):\n",
    "    if row.endswith('2011'):\n",
    "        l2011.append(row)\n",
    "    elif row.endswith('2012'):\n",
    "        l2012.append(row)\n",
    "    elif row == 'Stadtteil':\n",
    "        pass\n",
    "    else:\n",
    "        lother.append(row)\n",
    "\n",
    "df_arbeitsmarkt_2011 = df_arbeitsmarkt['Stadtteil'].copy().to_frame()\n",
    "df_arbeitsmarkt_2011['year'] = 2011\n",
    "df_arbeitsmarkt_2012 = df_arbeitsmarkt['Stadtteil'].copy().to_frame()\n",
    "df_arbeitsmarkt_2012['year'] = 2012\n",
    "\n",
    "\n",
    "for row in l2011:\n",
    "    df_arbeitsmarkt_2011[row[:-6].strip().replace('\\xa0', ' ')] = df_arbeitsmarkt[row].copy()\n",
    "for row in l2012:\n",
    "    df_arbeitsmarkt_2012[row[:-6].strip().replace('\\xa0', ' ')] = df_arbeitsmarkt[row].copy()\n",
    "display(df_arbeitsmarkt_2011.head())\n",
    "display(df_arbeitsmarkt_2012.head())"
   ]
  },
  {
   "cell_type": "code",
   "execution_count": null,
   "metadata": {},
   "outputs": [],
   "source": [
    "# preprocessing arbeitsmarkt\n",
    "def preprocess(df_old):\n",
    "    #display(list(df_old))\n",
    "    #Jeweils Anteil an Gesamtbevölkerung\n",
    "    df = pd.DataFrame(index=df_old.index)\n",
    "    df['Stadtteil'] = df_old['Stadtteil']\n",
    "    df['Erwerbsfähigendichte'] = df_old['Erwerbsfähige Personen Erwerbsfähigendichte in %'].str.replace(',', '.').astype(float)/100\n",
    "    #Erwerbsfähige Männer / alle\n",
    "    df['Erwerbsfähige Männer'] = 1.0*df_old['Erwerbsfähige Personen Männer']/df_old['Erwerbsfähige Personen Insgesamt']\n",
    "    df['Erwerbsfähige Deutsche'] = 1.0*df_old['Erwerbsfähige Personen Deutsche']/df_old['Erwerbsfähige Personen Insgesamt']\n",
    "    df['Beschäftigtendichte'] = df_old['Sozialversicherungspflichtig Beschäftigte (Wohnort) Beschäftigtendichte in %'].str.replace(',', '.').astype(float)/100.0\n",
    "    df['Beschäftigtendichte Männer'] = df_old['Sozialversicherungspflichtig Beschäftigte (Wohnort) Beschäftigtendichte Männer in %'].str.replace(',', '.').astype(float)/100.0\n",
    "    df['Beschäftigtendichte Frauen'] = df_old['Sozialversicherungspflichtig Beschäftigte (Wohnort) Beschäftigtendichte Frauen in %'].str.replace(',', '.').astype(float)/100.0\n",
    "    df['Beschäftigtendichte Deutsche'] = df_old['Sozialversicherungspflichtig Beschäftigte (Wohnort) Beschäftigtendichte Deutsche in %'].str.replace(',', '.').astype(float)/100.0\n",
    "    df['Beschäftigtendichte Ausländer'] = df_old['Sozialversicherungspflichtig Beschäftigte (Wohnort) Beschäftigtendichte Ausländerinnen und Ausländer in %'].str.replace(',', '.').astype(float)/100.0\n",
    "    df['Beschäftigtendichte 15-25-Jährige'] = df_old['Sozialversicherungspflichtig Beschäftigte (Wohnort) Beschäftigtendichte 15- bis unter 25-Jährige in %'].str.replace(',', '.').astype(float)/100.0 \n",
    "    df['Nebenjobdichte'] = df_old['Sozialversicherungspflichtig Beschäftigte (Wohnort) Nebenjobdichte in %'].str.replace(',', '.').astype(float)/100.0\n",
    "    df['Midijobdichte'] = df_old['Sozialversicherungspflichtig Beschäftigte (Wohnort) Midijobdichte in %'].str.replace(',', '.').astype(float)/100.0\n",
    "    df['Minijobdichte'] = df_old['Sozialversicherungspflichtig Beschäftigte (Wohnort) Minijobdichte in %'].str.replace(',', '.').astype(float)/100.0\n",
    "    df['Minijobdichte_test'] = df_old['Sozialversicherungspflichtig Beschäftigte (Wohnort) Minijobber/innen']/df_old['Sozialversicherungspflichtig Beschäftigte (Wohnort) Insgesamt']\n",
    "    df['Arbeitslosendichte'] = df_old['Arbeitslose Arbeitslosendichte in %'].str.replace(',', '.').astype(float)/100.0\n",
    "    df['Arbeitslosendichte SGB III'] = df_old['Arbeitslose Arbeitslosendichte SGB III in %'].str.replace(',', '.').astype(float)/100.0\n",
    "    df['Arbeitslosendichte SGB II'] = df_old['Arbeitslose Arbeitslosendichte SGB II in %'].str.replace(',', '.').astype(float)/100.0\n",
    "    df['Arbeitslosendichte Frauen'] = df_old['Arbeitslose Arbeitslosendichte Frauen in %'].str.replace(',', '.').astype(float)/100.0\n",
    "    df['Arbeitslosendichte Männer'] = df_old['Arbeitslose Arbeitslosendichte Männer in %'].str.replace(',', '.').astype(float)/100.0\n",
    "    df['Arbeitslosendichte unter 25-Jährige'] = df_old['Arbeitslose Arbeitslosendichte unter 25-Jährige in %'].str.replace(',', '.').astype(float)/100.0\n",
    "    df['Arbeitslosendichte Deutsche'] = df_old['Arbeitslose Arbeitslosendichte Deutsche in %'].str.replace(',', '.').astype(float)/100.0\n",
    "    df['Arbeitslosendichte Ausländer'] = df_old['Arbeitslose Arbeitslosendichte Ausländerinnen und Ausländer in %'].str.replace(',', '.').astype(float)/100.0\n",
    "    df['Arbeitslosendichte 55- bis unter 65-Jährige'] = df_old['Arbeitslose Arbeitslosendichte 55- bis unter 65-Jährige in %'].str.replace(',', '.').astype(float)/100.0\n",
    "    return df\n",
    "df_arbeitsmarkt_2011_preprocessed = preprocess(df_arbeitsmarkt_2011)\n",
    "df_arbeitsmarkt_2012_preprocessed = preprocess(df_arbeitsmarkt_2012)\n",
    "df_arbeitsmarkt_2011_preprocessed.head()"
   ]
  },
  {
   "cell_type": "code",
   "execution_count": null,
   "metadata": {},
   "outputs": [],
   "source": [
    "#Problem:\n",
    "#Wahldaten fassen Bahnhof- und Gutleutviertel zusammen. Um so wenig Daten wie möglich zu verlieren,\n",
    "#legen wir für die Wahl beide Beobachtungen mit den selben Werten an\n",
    "\n",
    "def solve_prolem(df_old):\n",
    "    df = df_old.copy()\n",
    "    df.drop(df.index[df.Stadtteilname == 'Gutleut-/Bahnhofsviertel'], inplace=True)\n",
    "    series = df_old[df_old.Stadtteilname == 'Gutleut-/Bahnhofsviertel'].iloc[0,:]\n",
    "    bahnhof = series.copy()\n",
    "    bahnhof['Stadtteilname'] = 'Bahnhofsviertel'\n",
    "    gutleut = series.copy()\n",
    "    gutleut['Stadtteilname'] = 'Gutleutviertel'\n",
    "    df = df.append([gutleut,bahnhof])\n",
    "    return df\n",
    "\n",
    "\n",
    "df_bw2017_zst_preprocessed = solve_prolem(df_bw2017_zst_trimmed)\n",
    "df_bw2017_zst_preprocessed.head()\n"
   ]
  },
  {
   "cell_type": "code",
   "execution_count": null,
   "metadata": {},
   "outputs": [],
   "source": [
    "merge_2011 = df_arbeitsmarkt_2011_preprocessed.set_index('Stadtteil').join(df_bw2017_zst_preprocessed.set_index('Stadtteilname'))\n",
    "merge_2012 = df_arbeitsmarkt_2012_preprocessed.set_index('Stadtteil').join(df_bw2017_zst_preprocessed.set_index('Stadtteilname'))\n",
    "merge_2011.to_pickle(\"./data2011.pkl\")\n",
    "merge_2012.to_pickle(\"./data2012.pkl\")\n",
    "display(merge_2011.head())\n",
    "display(merge_2012.head())"
   ]
  },
  {
   "cell_type": "markdown",
   "metadata": {},
   "source": [
    "### Pandas Profiling\n",
    "**Achtung:** Die Erstellung des Report dauert Zeit!"
   ]
  },
  {
   "cell_type": "code",
   "execution_count": null,
   "metadata": {},
   "outputs": [],
   "source": [
    "from pandas_profiling import ProfileReport\n",
    "\n",
    "path2011='report_2011.html'\n",
    "profile2011 = ProfileReport(merge_2011, title=\"Pandas Profiling Report: 2011\")\n",
    "profile2011.to_notebook_iframe()"
   ]
  },
  {
   "cell_type": "code",
   "execution_count": null,
   "metadata": {},
   "outputs": [],
   "source": [
    "path2012='report_2012.html'\n",
    "profile2012 = ProfileReport(merge_2012, title=\"Pandas Profiling Report: 2012\")\n",
    "profile2012.to_notebook_iframe()"
   ]
  },
  {
   "cell_type": "code",
   "execution_count": null,
   "metadata": {},
   "outputs": [],
   "source": [
    "pd.set_option('display.max_columns', None)\n",
    "display(df_arbeitsmarkt.head())"
   ]
  },
  {
   "cell_type": "code",
   "execution_count": null,
   "metadata": {},
   "outputs": [],
   "source": [
    "df_arbeitsmarkt_einkommen  = df_arbeitsmarkt['Stadtteil'].copy().to_frame()\n",
    "\n",
    "for row in lother:\n",
    "    df_arbeitsmarkt_einkommen[row.strip().replace('\\xa0', ' ')] = df_arbeitsmarkt[row].copy()\n",
    "\n",
    "def preprocess_einkommen(df_old):\n",
    "    df = pd.DataFrame(index=df_old.index)\n",
    "    df= pd.DataFrame(index=df_arbeitsmarkt_einkommen.index)\n",
    "    df['Stadtteil'] = df_old['Stadtteil'] \n",
    "    bis_2000 = pd.to_numeric(df_old['Sozialversicherungspflichtig Beschäftigte (Wohnort) Bruttoarbeitsentgelt bis 2.000 \\x80  2010'], errors='coerce')\n",
    "    von2000bis4000 = pd.to_numeric(df_old['Sozialversicherungspflichtig Beschäftigte (Wohnort) Bruttoarbeitsentgelt über 2.000 bis 4.000 \\x80  2010'], errors='coerce')\n",
    "    von4000bis5000 = pd.to_numeric(df_old['Sozialversicherungspflichtig Beschäftigte (Wohnort) Bruttoarbeitsentgelt über 4.000 bis 5.000 \\x80  2010'], errors='coerce')\n",
    "    über5000 = pd.to_numeric(df_old['Sozialversicherungspflichtig Beschäftigte (Wohnort) Bruttoarbeitsentgelt über 5.000 \\x80  2010'], errors='coerce')\n",
    "    gesamt = bis_2000+von2000bis4000+von4000bis5000+über5000 \n",
    "    df['Anteil Bruttoarbeitsentgelt bis 2.000'] = 1.0*bis_2000/gesamt\n",
    "    df['Anteil Bruttoarbeitsentgelt über 2.000 bis 4.000'] = 1.0*von2000bis4000/gesamt\n",
    "    df['Anteil Bruttoarbeitsentgelt über 4.000 bis 5.000'] = 1.0*von4000bis5000/gesamt\n",
    "    df['Anteil Bruttoarbeitsentgelt über 5.000'] = 1.0*über5000/gesamt\n",
    "    df['Median Bruttoarbeitsentgelte'] = pd.to_numeric(df_arbeitsmarkt_einkommen['Sozialversicherungspflichtig Beschäftigte (Wohnort) Median Bruttoarbeitsentgelte  2010'], errors='coerce')    \n",
    "    return df\n",
    "df_arbeitsmarkt_preprocessed_einkommen = preprocess_einkommen(df_arbeitsmarkt_einkommen)    \n",
    "    \n",
    "merge_einkommen = df_arbeitsmarkt_preprocessed_einkommen.set_index('Stadtteil').join(df_bw2017_zst_preprocessed.set_index('Stadtteilname'))\n",
    "merge_einkommen.head()\n",
    "# ./data/merged_data.pkl ist pickled Instanz dieses DataFrames"
   ]
  },
  {
   "cell_type": "code",
   "execution_count": null,
   "metadata": {},
   "outputs": [],
   "source": [
    "profile_einkommen = ProfileReport(merge_einkommen, title=\"Pandas Profiling Report: einkommen\")\n",
    "profile_einkommen.to_notebook_iframe()\n",
    "#profile_einkommen.to_file('./report_einkommen.html')"
   ]
  }
 ],
 "metadata": {
  "kernelspec": {
   "display_name": "Python 3.8 (Datascience)",
   "language": "python",
   "name": "datascience"
  },
  "language_info": {
   "codemirror_mode": {
    "name": "ipython",
    "version": 3
   },
   "file_extension": ".py",
   "mimetype": "text/x-python",
   "name": "python",
   "nbconvert_exporter": "python",
   "pygments_lexer": "ipython3",
   "version": "3.8.3"
  }
 },
 "nbformat": 4,
 "nbformat_minor": 2
}
